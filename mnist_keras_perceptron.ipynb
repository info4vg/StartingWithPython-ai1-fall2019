{
  "nbformat": 4,
  "nbformat_minor": 0,
  "metadata": {
    "colab": {
      "name": "mnist-keras-perceptron.ipynb",
      "provenance": [],
      "collapsed_sections": [],
      "include_colab_link": true
    },
    "kernelspec": {
      "name": "python3",
      "display_name": "Python 3"
    },
    "accelerator": "GPU"
  },
  "cells": [
    {
      "cell_type": "markdown",
      "metadata": {
        "id": "view-in-github",
        "colab_type": "text"
      },
      "source": [
        "<a href=\"https://colab.research.google.com/github/info4vg/StartingWithPython-ai1-fall2019/blob/master/mnist_keras_perceptron.ipynb\" target=\"_parent\"><img src=\"https://colab.research.google.com/assets/colab-badge.svg\" alt=\"Open In Colab\"/></a>"
      ]
    },
    {
      "cell_type": "code",
      "metadata": {
        "id": "0rrbVKm5n6E3",
        "colab_type": "code",
        "outputId": "d705f5ab-faa8-47c3-ddef-fa2678322ed6",
        "colab": {
          "base_uri": "https://localhost:8080/",
          "height": 34
        }
      },
      "source": [
        "# taken from lukas/ml-class\n",
        "import numpy as np\n",
        "from keras.datasets import mnist\n",
        "from keras.models import Sequential\n",
        "from keras.layers import Dense, Flatten, Dropout\n",
        "from keras.utils import np_utils\n",
        "from keras.callbacks import Callback\n",
        "import json\n",
        "\n",
        "# from wandb.keras import WandbCallback\n",
        "# import wandb\n",
        "\n",
        "# run = wandb.init()\n",
        "# config = run.config\n",
        "\n",
        "\n",
        "\n",
        "\n",
        "\n"
      ],
      "execution_count": 23,
      "outputs": [
        {
          "output_type": "stream",
          "text": [
            "Using TensorFlow backend.\n"
          ],
          "name": "stderr"
        }
      ]
    },
    {
      "cell_type": "code",
      "metadata": {
        "id": "lJLflRg-UUvQ",
        "colab_type": "code",
        "colab": {
          "base_uri": "https://localhost:8080/",
          "height": 34
        },
        "outputId": "bae9c2fe-17ed-4506-b211-a227f27118b7"
      },
      "source": [
        "1+4"
      ],
      "execution_count": 4,
      "outputs": [
        {
          "output_type": "execute_result",
          "data": {
            "text/plain": [
              "5"
            ]
          },
          "metadata": {
            "tags": []
          },
          "execution_count": 4
        }
      ]
    },
    {
      "cell_type": "code",
      "metadata": {
        "id": "lkTQO9TfYWL0",
        "colab_type": "code",
        "colab": {
          "base_uri": "https://localhost:8080/",
          "height": 34
        },
        "outputId": "16685703-1d76-4a7d-8366-d54b8fbc833d"
      },
      "source": [
        "a= (1,2)\n",
        "type(a)\n"
      ],
      "execution_count": 6,
      "outputs": [
        {
          "output_type": "execute_result",
          "data": {
            "text/plain": [
              "tuple"
            ]
          },
          "metadata": {
            "tags": []
          },
          "execution_count": 6
        }
      ]
    },
    {
      "cell_type": "markdown",
      "metadata": {
        "id": "ugmmDc2HUX8o",
        "colab_type": "text"
      },
      "source": [
        "### Hello World\n",
        "# MAths\n",
        "\n",
        "1. One\n",
        "2. Two\n",
        "3. Three\n",
        "\n",
        "vandit garg engineering b.tech\n",
        "\n",
        "- vandit\n",
        "- garg\n",
        "\n",
        "greek letter alpha $\\alpha$\n",
        "\n",
        "---\n",
        "$\\alpha + \\beta =\\gamma +\\delta $\n",
        "\n",
        "$$\\alpha + \\beta =\\gamma +\\delta $$\n",
        "\n",
        "*vandit*\n",
        "\n",
        "vandit\n",
        "\n",
        "**vandit**\n",
        "\n"
      ]
    },
    {
      "cell_type": "code",
      "metadata": {
        "id": "1Kj2bkhQ1doK",
        "colab_type": "code",
        "colab": {
          "base_uri": "https://localhost:8080/",
          "height": 68
        },
        "outputId": "14f75bb6-e7b4-4585-d100-a2eb8752aa4b"
      },
      "source": [
        "class Config:\n",
        "  pass\n",
        "\n",
        "config = Config()\n",
        "config.optimizer = \"adam\"\n",
        "config.epochs = 30\n",
        "config.hidden_nodes = 30\n",
        "\n",
        "# load data\n",
        "(X_train, y_train), (X_test, y_test) = mnist.load_data()\n",
        "print(X_train.shape, y_train.shape)\n",
        "img_width = X_train.shape[1]\n",
        "img_height = X_train.shape[2]\n",
        "\n",
        "#X_train = X_train.astype('float32')\n",
        "#X_train /= 255.\n",
        "#X_test = X_test.astype('float32')\n",
        "#X_test /= 255.\n",
        "\n",
        "# Normalize, change learning rate, play with layer size, batchsize\n",
        "\n",
        "# one hot encode outputs\n",
        "y_train = np_utils.to_categorical(y_train)\n",
        "y_test = np_utils.to_categorical(y_test)\n",
        "labels = range(10)\n",
        "\n",
        "num_classes = y_train.shape[1]"
      ],
      "execution_count": 24,
      "outputs": [
        {
          "output_type": "stream",
          "text": [
            "Downloading data from https://s3.amazonaws.com/img-datasets/mnist.npz\n",
            "11493376/11490434 [==============================] - 1s 0us/step\n",
            "(60000, 28, 28) (60000,)\n"
          ],
          "name": "stdout"
        }
      ]
    },
    {
      "cell_type": "code",
      "metadata": {
        "id": "g8MHhZ0V1VHk",
        "colab_type": "code",
        "colab": {
          "base_uri": "https://localhost:8080/",
          "height": 499
        },
        "outputId": "654e6dff-64f7-48ae-de2a-2d47168770e9"
      },
      "source": [
        "# create model\n",
        "model = Sequential()\n",
        "model.add(Flatten(input_shape=(img_width, img_height)))\n",
        "model.add(Dense(config.hidden_nodes, activation='relu'))\n",
        "model.add(Dense(config.hidden_nodes, activation='relu'))\n",
        "model.add(Dense(num_classes, activation='softmax'))\n",
        "model.compile(loss='categorical_crossentropy', optimizer=config.optimizer,\n",
        "              metrics=['accuracy'])\n",
        "model.summary()"
      ],
      "execution_count": 25,
      "outputs": [
        {
          "output_type": "stream",
          "text": [
            "WARNING:tensorflow:From /usr/local/lib/python3.6/dist-packages/keras/backend/tensorflow_backend.py:66: The name tf.get_default_graph is deprecated. Please use tf.compat.v1.get_default_graph instead.\n",
            "\n",
            "WARNING:tensorflow:From /usr/local/lib/python3.6/dist-packages/keras/backend/tensorflow_backend.py:541: The name tf.placeholder is deprecated. Please use tf.compat.v1.placeholder instead.\n",
            "\n",
            "WARNING:tensorflow:From /usr/local/lib/python3.6/dist-packages/keras/backend/tensorflow_backend.py:4432: The name tf.random_uniform is deprecated. Please use tf.random.uniform instead.\n",
            "\n",
            "WARNING:tensorflow:From /usr/local/lib/python3.6/dist-packages/keras/optimizers.py:793: The name tf.train.Optimizer is deprecated. Please use tf.compat.v1.train.Optimizer instead.\n",
            "\n",
            "WARNING:tensorflow:From /usr/local/lib/python3.6/dist-packages/keras/backend/tensorflow_backend.py:3576: The name tf.log is deprecated. Please use tf.math.log instead.\n",
            "\n",
            "Model: \"sequential_1\"\n",
            "_________________________________________________________________\n",
            "Layer (type)                 Output Shape              Param #   \n",
            "=================================================================\n",
            "flatten_1 (Flatten)          (None, 784)               0         \n",
            "_________________________________________________________________\n",
            "dense_1 (Dense)              (None, 30)                23550     \n",
            "_________________________________________________________________\n",
            "dense_2 (Dense)              (None, 30)                930       \n",
            "_________________________________________________________________\n",
            "dense_3 (Dense)              (None, 10)                310       \n",
            "=================================================================\n",
            "Total params: 24,790\n",
            "Trainable params: 24,790\n",
            "Non-trainable params: 0\n",
            "_________________________________________________________________\n"
          ],
          "name": "stdout"
        }
      ]
    },
    {
      "cell_type": "code",
      "metadata": {
        "id": "sb4t4ypL1ZGh",
        "colab_type": "code",
        "colab": {
          "base_uri": "https://localhost:8080/",
          "height": 1000
        },
        "outputId": "63b9163b-836c-408f-a55a-10af668a4dd4"
      },
      "source": [
        "# Fit the model\n",
        " history =model.fit(X_train, y_train, validation_data=(X_test, y_test),\n",
        "          epochs=config.epochs)"
      ],
      "execution_count": 26,
      "outputs": [
        {
          "output_type": "stream",
          "text": [
            "WARNING:tensorflow:From /usr/local/lib/python3.6/dist-packages/tensorflow/python/ops/math_grad.py:1250: add_dispatch_support.<locals>.wrapper (from tensorflow.python.ops.array_ops) is deprecated and will be removed in a future version.\n",
            "Instructions for updating:\n",
            "Use tf.where in 2.0, which has the same broadcast rule as np.where\n",
            "WARNING:tensorflow:From /usr/local/lib/python3.6/dist-packages/keras/backend/tensorflow_backend.py:1033: The name tf.assign_add is deprecated. Please use tf.compat.v1.assign_add instead.\n",
            "\n",
            "Train on 60000 samples, validate on 10000 samples\n",
            "Epoch 1/30\n",
            "60000/60000 [==============================] - 14s 236us/step - loss: 5.5905 - acc: 0.6392 - val_loss: 4.3546 - val_acc: 0.7232\n",
            "Epoch 2/30\n",
            "60000/60000 [==============================] - 10s 159us/step - loss: 4.3848 - acc: 0.7212 - val_loss: 4.6385 - val_acc: 0.7063\n",
            "Epoch 3/30\n",
            "60000/60000 [==============================] - 9s 156us/step - loss: 4.2306 - acc: 0.7325 - val_loss: 4.0883 - val_acc: 0.7431\n",
            "Epoch 4/30\n",
            "60000/60000 [==============================] - 10s 159us/step - loss: 4.1734 - acc: 0.7375 - val_loss: 4.1347 - val_acc: 0.7405\n",
            "Epoch 5/30\n",
            "60000/60000 [==============================] - 10s 158us/step - loss: 4.1491 - acc: 0.7396 - val_loss: 4.1484 - val_acc: 0.7404\n",
            "Epoch 6/30\n",
            "60000/60000 [==============================] - 10s 165us/step - loss: 4.1407 - acc: 0.7409 - val_loss: 4.0344 - val_acc: 0.7484\n",
            "Epoch 7/30\n",
            "60000/60000 [==============================] - 9s 158us/step - loss: 4.0936 - acc: 0.7443 - val_loss: 4.1664 - val_acc: 0.7395\n",
            "Epoch 8/30\n",
            "60000/60000 [==============================] - 10s 159us/step - loss: 4.0858 - acc: 0.7447 - val_loss: 4.1919 - val_acc: 0.7377\n",
            "Epoch 9/30\n",
            "60000/60000 [==============================] - 9s 158us/step - loss: 4.0890 - acc: 0.7448 - val_loss: 4.0531 - val_acc: 0.7477\n",
            "Epoch 10/30\n",
            "60000/60000 [==============================] - 9s 158us/step - loss: 4.0800 - acc: 0.7457 - val_loss: 4.0650 - val_acc: 0.7465\n",
            "Epoch 11/30\n",
            "60000/60000 [==============================] - 10s 161us/step - loss: 4.0693 - acc: 0.7462 - val_loss: 4.2135 - val_acc: 0.7375\n",
            "Epoch 12/30\n",
            "60000/60000 [==============================] - 9s 157us/step - loss: 3.9990 - acc: 0.7508 - val_loss: 4.0299 - val_acc: 0.7489\n",
            "Epoch 13/30\n",
            "60000/60000 [==============================] - 10s 161us/step - loss: 4.0297 - acc: 0.7489 - val_loss: 3.9047 - val_acc: 0.7566\n",
            "Epoch 14/30\n",
            "60000/60000 [==============================] - 10s 161us/step - loss: 3.9569 - acc: 0.7536 - val_loss: 4.0351 - val_acc: 0.7488\n",
            "Epoch 15/30\n",
            "60000/60000 [==============================] - 9s 157us/step - loss: 4.0547 - acc: 0.7475 - val_loss: 4.0292 - val_acc: 0.7492\n",
            "Epoch 16/30\n",
            "60000/60000 [==============================] - 9s 158us/step - loss: 4.0047 - acc: 0.7507 - val_loss: 3.9906 - val_acc: 0.7516\n",
            "Epoch 17/30\n",
            "60000/60000 [==============================] - 10s 158us/step - loss: 3.9632 - acc: 0.7532 - val_loss: 4.0513 - val_acc: 0.7479\n",
            "Epoch 18/30\n",
            "60000/60000 [==============================] - 10s 159us/step - loss: 4.0001 - acc: 0.7511 - val_loss: 4.0896 - val_acc: 0.7455\n",
            "Epoch 19/30\n",
            "60000/60000 [==============================] - 10s 161us/step - loss: 4.0024 - acc: 0.7510 - val_loss: 4.0736 - val_acc: 0.7468\n",
            "Epoch 20/30\n",
            "60000/60000 [==============================] - 9s 156us/step - loss: 4.0163 - acc: 0.7500 - val_loss: 4.0773 - val_acc: 0.7465\n",
            "Epoch 21/30\n",
            "60000/60000 [==============================] - 10s 160us/step - loss: 4.0830 - acc: 0.7460 - val_loss: 4.0706 - val_acc: 0.7467\n",
            "Epoch 22/30\n",
            "60000/60000 [==============================] - 10s 160us/step - loss: 4.0242 - acc: 0.7499 - val_loss: 3.9887 - val_acc: 0.7516\n",
            "Epoch 23/30\n",
            "60000/60000 [==============================] - 10s 159us/step - loss: 3.9948 - acc: 0.7516 - val_loss: 4.4778 - val_acc: 0.7216\n",
            "Epoch 24/30\n",
            "60000/60000 [==============================] - 10s 160us/step - loss: 3.3224 - acc: 0.7928 - val_loss: 2.8101 - val_acc: 0.8246\n",
            "Epoch 25/30\n",
            "60000/60000 [==============================] - 10s 160us/step - loss: 2.8948 - acc: 0.8196 - val_loss: 2.7919 - val_acc: 0.8263\n",
            "Epoch 26/30\n",
            "60000/60000 [==============================] - 10s 166us/step - loss: 2.8006 - acc: 0.8256 - val_loss: 3.6212 - val_acc: 0.7743\n",
            "Epoch 27/30\n",
            "60000/60000 [==============================] - 10s 161us/step - loss: 2.8775 - acc: 0.8208 - val_loss: 2.6703 - val_acc: 0.8331\n",
            "Epoch 28/30\n",
            "60000/60000 [==============================] - 10s 160us/step - loss: 2.6822 - acc: 0.8329 - val_loss: 2.5650 - val_acc: 0.8402\n",
            "Epoch 29/30\n",
            "60000/60000 [==============================] - 10s 161us/step - loss: 2.6185 - acc: 0.8368 - val_loss: 2.5670 - val_acc: 0.8395\n",
            "Epoch 30/30\n",
            "60000/60000 [==============================] - 9s 158us/step - loss: 2.6260 - acc: 0.8363 - val_loss: 2.5141 - val_acc: 0.8426\n"
          ],
          "name": "stdout"
        }
      ]
    },
    {
      "cell_type": "code",
      "metadata": {
        "id": "4zLne58r3rFw",
        "colab_type": "code",
        "colab": {
          "base_uri": "https://localhost:8080/",
          "height": 527
        },
        "outputId": "075dfb0f-7f43-4288-91f3-bf0fbf3646a8"
      },
      "source": [
        "history.epoch\n"
      ],
      "execution_count": 28,
      "outputs": [
        {
          "output_type": "execute_result",
          "data": {
            "text/plain": [
              "[0,\n",
              " 1,\n",
              " 2,\n",
              " 3,\n",
              " 4,\n",
              " 5,\n",
              " 6,\n",
              " 7,\n",
              " 8,\n",
              " 9,\n",
              " 10,\n",
              " 11,\n",
              " 12,\n",
              " 13,\n",
              " 14,\n",
              " 15,\n",
              " 16,\n",
              " 17,\n",
              " 18,\n",
              " 19,\n",
              " 20,\n",
              " 21,\n",
              " 22,\n",
              " 23,\n",
              " 24,\n",
              " 25,\n",
              " 26,\n",
              " 27,\n",
              " 28,\n",
              " 29]"
            ]
          },
          "metadata": {
            "tags": []
          },
          "execution_count": 28
        }
      ]
    },
    {
      "cell_type": "code",
      "metadata": {
        "id": "1AHou8wY5Pj_",
        "colab_type": "code",
        "colab": {}
      },
      "source": [
        "epochs= history.epoch"
      ],
      "execution_count": 0,
      "outputs": []
    },
    {
      "cell_type": "code",
      "metadata": {
        "id": "xynoXBon5S8o",
        "colab_type": "code",
        "colab": {
          "base_uri": "https://localhost:8080/",
          "height": 34
        },
        "outputId": "8e766aee-29bb-4576-a00e-efdf8ef4ca0a"
      },
      "source": [
        "history.history.keys()"
      ],
      "execution_count": 31,
      "outputs": [
        {
          "output_type": "execute_result",
          "data": {
            "text/plain": [
              "dict_keys(['val_loss', 'val_acc', 'loss', 'acc'])"
            ]
          },
          "metadata": {
            "tags": []
          },
          "execution_count": 31
        }
      ]
    },
    {
      "cell_type": "code",
      "metadata": {
        "id": "UFUqlU3G5aPe",
        "colab_type": "code",
        "colab": {
          "base_uri": "https://localhost:8080/",
          "height": 527
        },
        "outputId": "2ef54742-e815-40dc-a9d2-f39faf5ed4a6"
      },
      "source": [
        "history.history['acc']"
      ],
      "execution_count": 32,
      "outputs": [
        {
          "output_type": "execute_result",
          "data": {
            "text/plain": [
              "[0.6391833333333333,\n",
              " 0.7211833333333333,\n",
              " 0.7325166666666667,\n",
              " 0.7375333333333334,\n",
              " 0.7396,\n",
              " 0.7408666666666667,\n",
              " 0.7443,\n",
              " 0.7447166666666667,\n",
              " 0.74475,\n",
              " 0.7456833333333334,\n",
              " 0.7461833333333333,\n",
              " 0.7507833333333334,\n",
              " 0.74885,\n",
              " 0.7536166666666667,\n",
              " 0.7475333333333334,\n",
              " 0.7506666666666667,\n",
              " 0.7531833333333333,\n",
              " 0.7510833333333333,\n",
              " 0.7509666666666667,\n",
              " 0.7499833333333333,\n",
              " 0.746,\n",
              " 0.7499166666666667,\n",
              " 0.7515666666666667,\n",
              " 0.7928,\n",
              " 0.8196166666666667,\n",
              " 0.82555,\n",
              " 0.8208166666666666,\n",
              " 0.8328833333333333,\n",
              " 0.8367666666666667,\n",
              " 0.8362833333333334]"
            ]
          },
          "metadata": {
            "tags": []
          },
          "execution_count": 32
        }
      ]
    },
    {
      "cell_type": "code",
      "metadata": {
        "id": "ZwxXUG4m5d9l",
        "colab_type": "code",
        "colab": {
          "base_uri": "https://localhost:8080/",
          "height": 527
        },
        "outputId": "764e1604-f5d3-4e79-aa88-c4926f2c0dd8"
      },
      "source": [
        "history.history['val_acc']"
      ],
      "execution_count": 33,
      "outputs": [
        {
          "output_type": "execute_result",
          "data": {
            "text/plain": [
              "[0.7232,\n",
              " 0.7063,\n",
              " 0.7431,\n",
              " 0.7405,\n",
              " 0.7404,\n",
              " 0.7484,\n",
              " 0.7395,\n",
              " 0.7377,\n",
              " 0.7477,\n",
              " 0.7465,\n",
              " 0.7375,\n",
              " 0.7489,\n",
              " 0.7566,\n",
              " 0.7488,\n",
              " 0.7492,\n",
              " 0.7516,\n",
              " 0.7479,\n",
              " 0.7455,\n",
              " 0.7468,\n",
              " 0.7465,\n",
              " 0.7467,\n",
              " 0.7516,\n",
              " 0.7216,\n",
              " 0.8246,\n",
              " 0.8263,\n",
              " 0.7743,\n",
              " 0.8331,\n",
              " 0.8402,\n",
              " 0.8395,\n",
              " 0.8426]"
            ]
          },
          "metadata": {
            "tags": []
          },
          "execution_count": 33
        }
      ]
    },
    {
      "cell_type": "code",
      "metadata": {
        "id": "g4Cx5Jo85ymE",
        "colab_type": "code",
        "colab": {
          "base_uri": "https://localhost:8080/",
          "height": 34
        },
        "outputId": "9af77598-4d09-4fa8-93ee-216e4101f063"
      },
      "source": [
        "len(history.history['val_acc'])"
      ],
      "execution_count": 35,
      "outputs": [
        {
          "output_type": "execute_result",
          "data": {
            "text/plain": [
              "30"
            ]
          },
          "metadata": {
            "tags": []
          },
          "execution_count": 35
        }
      ]
    },
    {
      "cell_type": "code",
      "metadata": {
        "id": "b0tjjdBc5ecU",
        "colab_type": "code",
        "colab": {}
      },
      "source": [
        "import matplotlib.pyplot as plt"
      ],
      "execution_count": 0,
      "outputs": []
    },
    {
      "cell_type": "code",
      "metadata": {
        "id": "W8EhJFeO5ej5",
        "colab_type": "code",
        "colab": {
          "base_uri": "https://localhost:8080/",
          "height": 286
        },
        "outputId": "e004fb16-fbb8-4661-c4e3-bb959d122335"
      },
      "source": [
        "plt.plot(history.epoch, history.history['acc'])"
      ],
      "execution_count": 36,
      "outputs": [
        {
          "output_type": "execute_result",
          "data": {
            "text/plain": [
              "[<matplotlib.lines.Line2D at 0x7fd5a05c4b70>]"
            ]
          },
          "metadata": {
            "tags": []
          },
          "execution_count": 36
        },
        {
          "output_type": "display_data",
          "data": {
            "image/png": "[encoded data removed]",
            "text/plain": [
              "<Figure size 432x288 with 1 Axes>"
            ]
          },
          "metadata": {
            "tags": []
          }
        }
      ]
    },
    {
      "cell_type": "code",
      "metadata": {
        "id": "5nkYTgA45-_t",
        "colab_type": "code",
        "colab": {
          "base_uri": "https://localhost:8080/",
          "height": 286
        },
        "outputId": "14464949-139a-43b9-c862-61b5f3828b4a"
      },
      "source": [
        "plt.plot(epochs, history.history['acc'])"
      ],
      "execution_count": 37,
      "outputs": [
        {
          "output_type": "execute_result",
          "data": {
            "text/plain": [
              "[<matplotlib.lines.Line2D at 0x7fd5a0562b00>]"
            ]
          },
          "metadata": {
            "tags": []
          },
          "execution_count": 37
        },
        {
          "output_type": "display_data",
          "data": {
            "image/png": "[encoded data removed]",
            "text/plain": [
              "<Figure size 432x288 with 1 Axes>"
            ]
          },
          "metadata": {
            "tags": []
          }
        }
      ]
    },
    {
      "cell_type": "code",
      "metadata": {
        "id": "NxsSmxC26GAI",
        "colab_type": "code",
        "colab": {
          "base_uri": "https://localhost:8080/",
          "height": 286
        },
        "outputId": "c6c1c0d2-4ae7-41ee-cd02-a4467d22e2d5"
      },
      "source": [
        "plt.plot(epochs, history.history['acc'])\n",
        "plt.plot(epochs, history.history['val_acc'])"
      ],
      "execution_count": 38,
      "outputs": [
        {
          "output_type": "execute_result",
          "data": {
            "text/plain": [
              "[<matplotlib.lines.Line2D at 0x7fd5a056ca20>]"
            ]
          },
          "metadata": {
            "tags": []
          },
          "execution_count": 38
        },
        {
          "output_type": "display_data",
          "data": {
            "image/png": "[encoded data removed]",
            "text/plain": [
              "<Figure size 432x288 with 1 Axes>"
            ]
          },
          "metadata": {
            "tags": []
          }
        }
      ]
    },
    {
      "cell_type": "code",
      "metadata": {
        "id": "jmqtwrNX6LRS",
        "colab_type": "code",
        "colab": {
          "base_uri": "https://localhost:8080/",
          "height": 286
        },
        "outputId": "67046b40-7c06-4606-9a17-becc39efc96e"
      },
      "source": [
        "plt.plot(epochs, history.history['loss'])\n",
        "plt.plot(epochs, history.history['val_loss'])"
      ],
      "execution_count": 39,
      "outputs": [
        {
          "output_type": "execute_result",
          "data": {
            "text/plain": [
              "[<matplotlib.lines.Line2D at 0x7fd5a057dcf8>]"
            ]
          },
          "metadata": {
            "tags": []
          },
          "execution_count": 39
        },
        {
          "output_type": "display_data",
          "data": {
            "image/png": "[encoded data removed]",
            "text/plain": [
              "<Figure size 432x288 with 1 Axes>"
            ]
          },
          "metadata": {
            "tags": []
          }
        }
      ]
    },
    {
      "cell_type": "code",
      "metadata": {
        "id": "Wcp9z2Oc-tNe",
        "colab_type": "code",
        "colab": {}
      },
      "source": [
        ""
      ],
      "execution_count": 0,
      "outputs": []
    }
  ]
}